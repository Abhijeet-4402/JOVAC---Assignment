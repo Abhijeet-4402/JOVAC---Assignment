{
 "cells": [
  {
   "cell_type": "markdown",
   "id": "f6d5bea8",
   "metadata": {},
   "source": [
    "# Custom Error in Python"
   ]
  },
  {
   "cell_type": "code",
   "execution_count": null,
   "id": "1afc4e9e",
   "metadata": {},
   "outputs": [],
   "source": [
    "class NegativeValueError(Exception):\n",
    "    def __init__(self, value):\n",
    "        self.value = value\n",
    "        self.message = f\"Negative value error: {value} is not allowed!\"\n",
    "        super().__init__(self.message)"
   ]
  },
  {
   "cell_type": "code",
   "execution_count": 2,
   "id": "d3787fca",
   "metadata": {},
   "outputs": [],
   "source": [
    "def square_root(x):\n",
    "    if x < 0:\n",
    "        raise NegativeValueError(x)\n",
    "    return x ** 0.5"
   ]
  },
  {
   "cell_type": "code",
   "execution_count": 3,
   "id": "c7f354b2",
   "metadata": {},
   "outputs": [
    {
     "name": "stdout",
     "output_type": "stream",
     "text": [
      "Caught an error: Negative value error: -9 is not allowed!\n"
     ]
    }
   ],
   "source": [
    "try:\n",
    "    num = -9\n",
    "    print(\"Square root:\", square_root(num))\n",
    "except NegativeValueError as e:\n",
    "    print(\"Caught an error:\", e)"
   ]
  }
 ],
 "metadata": {
  "kernelspec": {
   "display_name": "Python 3",
   "language": "python",
   "name": "python3"
  },
  "language_info": {
   "codemirror_mode": {
    "name": "ipython",
    "version": 3
   },
   "file_extension": ".py",
   "mimetype": "text/x-python",
   "name": "python",
   "nbconvert_exporter": "python",
   "pygments_lexer": "ipython3",
   "version": "3.10.0"
  }
 },
 "nbformat": 4,
 "nbformat_minor": 5
}
