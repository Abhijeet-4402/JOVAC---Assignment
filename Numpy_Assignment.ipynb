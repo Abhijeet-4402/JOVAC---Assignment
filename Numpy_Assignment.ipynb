{
 "cells": [
  {
   "cell_type": "markdown",
   "id": "79557655",
   "metadata": {},
   "source": [
    "# Machine Learning Online Assignment\n",
    "## Part I - NumPy"
   ]
  },
  {
   "cell_type": "markdown",
   "id": "f3184bf5",
   "metadata": {},
   "source": [
    "### Task 1"
   ]
  },
  {
   "cell_type": "code",
   "execution_count": 1,
   "id": "8482c617",
   "metadata": {},
   "outputs": [],
   "source": [
    "import numpy as np\n",
    "import time"
   ]
  },
  {
   "cell_type": "code",
   "execution_count": 2,
   "id": "e723b4d0",
   "metadata": {},
   "outputs": [],
   "source": [
    "# 1.1\n",
    "array_1d = np.arange(1, 11)\n",
    "\n",
    "# 1.2\n",
    "array_2d = np.arange(1, 10).reshape(3, 3)\n",
    "\n",
    "# 1.3\n",
    "array_3d = np.random.rand(3, 5, 3)"
   ]
  },
  {
   "cell_type": "code",
   "execution_count": 3,
   "id": "014c8ad9",
   "metadata": {},
   "outputs": [
    {
     "name": "stdout",
     "output_type": "stream",
     "text": [
      "1D Array:\n",
      " [ 1  2  3  4  5  6  7  8  9 10]\n",
      "\n",
      "2D Array:\n",
      " [[1 2 3]\n",
      " [4 5 6]\n",
      " [7 8 9]]\n",
      "\n",
      "3D Array:\n",
      " [[[0.84827826 0.73737738 0.56928039]\n",
      "  [0.37020444 0.36736829 0.5595143 ]\n",
      "  [0.29614597 0.27557627 0.1918785 ]\n",
      "  [0.10361777 0.71768246 0.85192123]\n",
      "  [0.32409621 0.3093825  0.25110124]]\n",
      "\n",
      " [[0.92987008 0.30119686 0.40231203]\n",
      "  [0.80202544 0.85145269 0.47154129]\n",
      "  [0.46654299 0.67171118 0.93499254]\n",
      "  [0.90367614 0.92816134 0.83330774]\n",
      "  [0.94559383 0.6715825  0.03834266]]\n",
      "\n",
      " [[0.90066923 0.01898787 0.70000809]\n",
      "  [0.92234095 0.51352892 0.20694799]\n",
      "  [0.00871417 0.38123736 0.82037569]\n",
      "  [0.59292873 0.35685167 0.35095407]\n",
      "  [0.05705425 0.34718784 0.96662239]]]\n",
      "\n",
      "Shapes:\n",
      "1D array shape: (10,)\n",
      "2D array shape: (3, 3)\n",
      "3D array shape: (3, 5, 3)\n",
      "\n",
      "Sizes:\n",
      "1D array size: 10\n",
      "2D array size: 9\n",
      "3D array size: 45\n",
      "\n",
      "Data Types:\n",
      "1D array dtype: int32\n",
      "2D array dtype: int32\n",
      "3D array dtype: float64\n"
     ]
    }
   ],
   "source": [
    "# 2\n",
    "print(\"1D Array:\\n\", array_1d)\n",
    "print(\"\\n2D Array:\\n\", array_2d)\n",
    "print(\"\\n3D Array:\\n\", array_3d)\n",
    "\n",
    "print(\"\\nShapes:\")\n",
    "print(\"1D array shape:\", array_1d.shape)\n",
    "print(\"2D array shape:\", array_2d.shape)\n",
    "print(\"3D array shape:\", array_3d.shape)\n",
    "\n",
    "print(\"\\nSizes:\")\n",
    "print(\"1D array size:\", array_1d.size)\n",
    "print(\"2D array size:\", array_2d.size)\n",
    "print(\"3D array size:\", array_3d.size)\n",
    "\n",
    "print(\"\\nData Types:\")\n",
    "print(\"1D array dtype:\", array_1d.dtype)\n",
    "print(\"2D array dtype:\", array_2d.dtype)\n",
    "print(\"3D array dtype:\", array_3d.dtype)"
   ]
  },
  {
   "cell_type": "markdown",
   "id": "387ded01",
   "metadata": {},
   "source": [
    "### Task 2"
   ]
  },
  {
   "cell_type": "code",
   "execution_count": 4,
   "id": "dc59c958",
   "metadata": {},
   "outputs": [
    {
     "name": "stdout",
     "output_type": "stream",
     "text": [
      "\n",
      "Original array: [10 20 30 40 50 60 70 80 90]\n",
      "First three elements: [10 20 30]\n",
      "Every alternate element: [10 30 50 70 90]\n",
      "Reversed array: [90 80 70 60 50 40 30 20 10]\n"
     ]
    }
   ],
   "source": [
    "data = np.array([10, 20, 30, 40, 50, 60, 70, 80, 90])\n",
    "print(\"\\nOriginal array:\", data)\n",
    "print(\"First three elements:\", data[:3])\n",
    "print(\"Every alternate element:\", data[::2])\n",
    "print(\"Reversed array:\", data[::-1])"
   ]
  },
  {
   "cell_type": "markdown",
   "id": "a9aa38d6",
   "metadata": {},
   "source": [
    "### Task 3"
   ]
  },
  {
   "cell_type": "code",
   "execution_count": 5,
   "id": "c8107f26",
   "metadata": {},
   "outputs": [
    {
     "name": "stdout",
     "output_type": "stream",
     "text": [
      "\n",
      "Array A: [13 11 15  8  7]\n",
      "Array B: [19 16 13 12  7]\n",
      "Element-wise Addition: [32 27 28 20 14]\n",
      "Element-wise Subtraction: [-6 -5  2 -4  0]\n",
      "Element-wise Multiplication: [247 176 195  96  49]\n",
      "Element-wise Division: [0.68421053 0.6875     1.15384615 0.66666667 1.        ]\n",
      "Dot Product of A and B: 763\n",
      "Mean of A: 10.8\n",
      "Median of A: 11.0\n",
      "Standard Deviation of A: 2.993325909419153\n",
      "Variance of A: 8.959999999999999\n",
      "Maximum value in B: 19\n",
      "Index of Maximum value in B: 0\n",
      "Minimum value in B: 7\n",
      "Index of Minimum value in B: 4\n"
     ]
    }
   ],
   "source": [
    "A = np.random.randint(1, 21, 5)\n",
    "B = np.random.randint(1, 21, 5)\n",
    "\n",
    "print(\"\\nArray A:\", A)\n",
    "print(\"Array B:\", B)\n",
    "\n",
    "print(\"Element-wise Addition:\", A + B)\n",
    "print(\"Element-wise Subtraction:\", A - B)\n",
    "print(\"Element-wise Multiplication:\", A * B)\n",
    "print(\"Element-wise Division:\", A / B)\n",
    "\n",
    "print(\"Dot Product of A and B:\", np.dot(A, B))\n",
    "\n",
    "print(\"Mean of A:\", np.mean(A))\n",
    "print(\"Median of A:\", np.median(A))\n",
    "print(\"Standard Deviation of A:\", np.std(A))\n",
    "print(\"Variance of A:\", np.var(A))\n",
    "\n",
    "print(\"Maximum value in B:\", np.max(B))\n",
    "print(\"Index of Maximum value in B:\", np.argmax(B))\n",
    "print(\"Minimum value in B:\", np.min(B))\n",
    "print(\"Index of Minimum value in B:\", np.argmin(B))"
   ]
  },
  {
   "cell_type": "markdown",
   "id": "e14af1b8",
   "metadata": {},
   "source": [
    "### Task 4"
   ]
  },
  {
   "cell_type": "code",
   "execution_count": 6,
   "id": "4d71730e",
   "metadata": {},
   "outputs": [
    {
     "name": "stdout",
     "output_type": "stream",
     "text": [
      "\n",
      "Original 1D array: [ 1  2  3  4  5  6  7  8  9 10 11 12]\n",
      "Reshaped into 2D array (4, 3):\n",
      " [[ 1  2  3]\n",
      " [ 4  5  6]\n",
      " [ 7  8  9]\n",
      " [10 11 12]]\n",
      "Reshaped into 3D array (2, 2, 3):\n",
      " [[[ 1  2  3]\n",
      "  [ 4  5  6]]\n",
      "\n",
      " [[ 7  8  9]\n",
      "  [10 11 12]]]\n",
      "Shape of Transposed 2D array (4, 3) -> (3, 4): (3, 4)\n"
     ]
    }
   ],
   "source": [
    "arr = np.arange(1, 13)\n",
    "print(\"\\nOriginal 1D array:\", arr)\n",
    "\n",
    "arr_2d = arr.reshape(4, 3)\n",
    "print(\"Reshaped into 2D array (4, 3):\\n\", arr_2d)\n",
    "\n",
    "arr_3d = arr.reshape(2, 2, 3)\n",
    "print(\"Reshaped into 3D array (2, 2, 3):\\n\", arr_3d)\n",
    "\n",
    "print(\"Shape of Transposed 2D array (4, 3) -> (3, 4):\", arr_2d.T.shape)"
   ]
  },
  {
   "cell_type": "markdown",
   "id": "d65c656d",
   "metadata": {},
   "source": [
    "### Task 5"
   ]
  },
  {
   "cell_type": "code",
   "execution_count": 7,
   "id": "6f42c782",
   "metadata": {},
   "outputs": [
    {
     "name": "stdout",
     "output_type": "stream",
     "text": [
      "\n",
      "Original array: [47 26 31 45 15 10 12 39 15 16 20 21 43 15 42]\n",
      "Elements greater than 25: [47 26 31 45 39 43 42]\n",
      "Array after replacing elements less than 30 with 0: [47  0 31 45  0  0  0 39  0  0  0  0 43  0 42]\n",
      "Number of elements divisible by 5: 10\n"
     ]
    }
   ],
   "source": [
    "arr = np.random.randint(10, 51, 15)\n",
    "print(\"\\nOriginal array:\", arr)\n",
    "\n",
    "print(\"Elements greater than 25:\", arr[arr > 25])\n",
    "\n",
    "arr[arr < 30] = 0\n",
    "print(\"Array after replacing elements less than 30 with 0:\", arr)\n",
    "\n",
    "print(\"Number of elements divisible by 5:\", np.sum(arr % 5 == 0))"
   ]
  },
  {
   "cell_type": "markdown",
   "id": "8c6fc1c0",
   "metadata": {},
   "source": [
    "### Task 6"
   ]
  },
  {
   "cell_type": "code",
   "execution_count": 8,
   "id": "7ed0441a",
   "metadata": {},
   "outputs": [
    {
     "name": "stdout",
     "output_type": "stream",
     "text": [
      "\n",
      "Equally spaced values between 0 and 1: [0.         0.11111111 0.22222222 0.33333333 0.44444444 0.55555556\n",
      " 0.66666667 0.77777778 0.88888889 1.        ]\n",
      "Identity matrix of size 4x4:\n",
      " [[1. 0. 0. 0.]\n",
      " [0. 1. 0. 0.]\n",
      " [0. 0. 1. 0.]\n",
      " [0. 0. 0. 1.]]\n",
      "Original random array: [67 98 78 75 88 83 88 33 15 29 71 57 44 20 78 96 16 77 87 98]\n",
      "5 largest elements: [88 88 96 98 98]\n"
     ]
    }
   ],
   "source": [
    "print(\"\\nEqually spaced values between 0 and 1:\", np.linspace(0, 1, 10))\n",
    "\n",
    "identity_matrix = np.eye(4)\n",
    "print(\"Identity matrix of size 4x4:\\n\", identity_matrix)\n",
    "\n",
    "arr = np.random.randint(1, 101, 20)\n",
    "print(\"Original random array:\", arr)\n",
    "print(\"5 largest elements:\", np.sort(arr)[-5:])"
   ]
  },
  {
   "cell_type": "markdown",
   "id": "1377bf87",
   "metadata": {},
   "source": [
    "### Task 7"
   ]
  },
  {
   "cell_type": "code",
   "execution_count": 9,
   "id": "ce1b7a00",
   "metadata": {},
   "outputs": [
    {
     "name": "stdout",
     "output_type": "stream",
     "text": [
      "\n",
      "Time taken for matrix multiplication: 0.003968954086303711 seconds\n",
      "Determinant of result matrix: 3.9113607875017067e+49\n",
      "Inverse of result matrix:\n",
      " [[13.85188133 -1.51278886 -2.79747028 ... 12.40662637 11.8367246\n",
      "   0.64224046]\n",
      " [-7.09786236 -1.97476341  3.29459985 ... -5.06659924 -9.6405697\n",
      "   1.57017531]\n",
      " [-6.04084133  1.81803849  0.19418345 ... -5.67492511 -2.49068251\n",
      "  -0.64919   ]\n",
      " ...\n",
      " [-8.33438897 -1.50283282  3.30665746 ... -6.9310353  -9.76774026\n",
      "   1.58625358]\n",
      " [11.62901051 -1.58770497 -2.08291791 ... 10.67815806  9.31854574\n",
      "   0.58536229]\n",
      " [ 6.62460128 -1.18590903 -1.37459609 ...  5.40345676  5.02624449\n",
      "   0.43937961]]\n"
     ]
    }
   ],
   "source": [
    "A = np.random.rand(100, 100)\n",
    "B = np.random.rand(100, 100)\n",
    "\n",
    "start = time.time()\n",
    "C = np.dot(A, B)\n",
    "end = time.time()\n",
    "print(\"\\nTime taken for matrix multiplication:\", end - start, \"seconds\")\n",
    "\n",
    "try:\n",
    "    det = np.linalg.det(C)\n",
    "    print(\"Determinant of result matrix:\", det)\n",
    "\n",
    "    inv = np.linalg.inv(C)\n",
    "    print(\"Inverse of result matrix:\\n\", inv)\n",
    "except np.linalg.LinAlgError:\n",
    "    print(\"Inverse not possible: Matrix is singular or not invertible.\")"
   ]
  }
 ],
 "metadata": {
  "kernelspec": {
   "display_name": "Python 3",
   "language": "python",
   "name": "python3"
  },
  "language_info": {
   "codemirror_mode": {
    "name": "ipython",
    "version": 3
   },
   "file_extension": ".py",
   "mimetype": "text/x-python",
   "name": "python",
   "nbconvert_exporter": "python",
   "pygments_lexer": "ipython3",
   "version": "3.10.0"
  }
 },
 "nbformat": 4,
 "nbformat_minor": 5
}
