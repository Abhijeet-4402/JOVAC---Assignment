{
 "cells": [
  {
   "cell_type": "markdown",
   "id": "6d92c8d1",
   "metadata": {},
   "source": [
    "# Machine Learning Online Assignment\n",
    "## Part II - Pandas"
   ]
  },
  {
   "cell_type": "markdown",
   "id": "95684848",
   "metadata": {},
   "source": [
    "### Task 1"
   ]
  },
  {
   "cell_type": "code",
   "execution_count": null,
   "id": "df566455",
   "metadata": {},
   "outputs": [],
   "source": [
    "import pandas as pd"
   ]
  },
  {
   "cell_type": "code",
   "execution_count": null,
   "id": "6bff740e",
   "metadata": {},
   "outputs": [],
   "source": [
    "s = pd.Series([25, 30, 35, 40, 45], index=['A', 'B', 'C', 'D', 'E'])\n",
    "print(\"First three elements:\\n\", s[:3])\n",
    "print(\"Mean:\", s.mean())\n",
    "print(\"Median:\", s.median())\n",
    "print(\"Standard Deviation:\", s.std())"
   ]
  },
  {
   "cell_type": "markdown",
   "id": "e05c5b14",
   "metadata": {},
   "source": [
    "### Task 2"
   ]
  },
  {
   "cell_type": "code",
   "execution_count": null,
   "id": "0bfdffd0",
   "metadata": {},
   "outputs": [],
   "source": [
    "df = pd.DataFrame({\n",
    "    'Name': ['Alice', 'Bob', 'Carol', 'David', 'Eve'],\n",
    "    'Age': [20, 22, 19, 21, 20],\n",
    "    'Gender': ['Female', 'Male', 'Female', 'Male', 'Female'],\n",
    "    'Marks': [85, 78, 92, 74, 88]\n",
    "})"
   ]
  },
  {
   "cell_type": "code",
   "execution_count": null,
   "id": "f6a3fc2e",
   "metadata": {},
   "outputs": [],
   "source": [
    "print(\"First two rows of the DataFrame:\\n\", df.head(2))\n",
    "print(\"\\nColumn names:\", df.columns.tolist())\n",
    "print(\"\\nData types:\\n\", df.dtypes)\n",
    "print(\"\\nSummary statistics:\\n\", df.describe(include='all'))"
   ]
  },
  {
   "cell_type": "code",
   "execution_count": null,
   "id": "da7313dd",
   "metadata": {},
   "outputs": [],
   "source": [
    "df['Passed'] = df['Marks'] >= 80\n",
    "print(\"\\nDataFrame with 'Passed' column:\\n\", df)"
   ]
  },
  {
   "cell_type": "markdown",
   "id": "c9a3f953",
   "metadata": {},
   "source": [
    "### Task 3"
   ]
  },
  {
   "cell_type": "code",
   "execution_count": null,
   "id": "a92a8c90",
   "metadata": {},
   "outputs": [],
   "source": [
    "print(\"Selected columns (Name and Marks):\\n\", df[['Name', 'Marks']])\n",
    "print(\"\\nStudents with Marks > 80:\\n\", df[df['Marks'] > 80])\n",
    "print(\"\\nStudent(s) with the highest marks:\\n\", df[df['Marks'] == df['Marks'].max()])"
   ]
  },
  {
   "cell_type": "markdown",
   "id": "ced7b59d",
   "metadata": {},
   "source": [
    "### Task 4"
   ]
  },
  {
   "cell_type": "code",
   "execution_count": null,
   "id": "158ef99c",
   "metadata": {},
   "outputs": [],
   "source": [
    "df.loc[1, 'Marks'] = None\n",
    "df.loc[4, 'Age'] = None\n",
    "\n",
    "print(\"Missing values in the DataFrame:\\n\", df.isnull())"
   ]
  },
  {
   "cell_type": "code",
   "execution_count": null,
   "id": "317e7f0d",
   "metadata": {},
   "outputs": [],
   "source": [
    "df['Marks'].fillna(df['Marks'].mean(), inplace=True)\n",
    "df.dropna(subset=['Age'], inplace=True)\n",
    "print(\"\\nUpdated DataFrame after handling missing data:\\n\", df)"
   ]
  },
  {
   "cell_type": "markdown",
   "id": "c529bcbb",
   "metadata": {},
   "source": [
    "### Task 5"
   ]
  },
  {
   "cell_type": "code",
   "execution_count": null,
   "id": "f2a7a851",
   "metadata": {},
   "outputs": [],
   "source": [
    "print(\"Mean Age and Marks by Gender:\")\n",
    "print(df.groupby('Gender')[['Age', 'Marks']].mean())\n",
    "print(\"\\nNumber of students by Gender:\")\n",
    "print(df.groupby('Gender').size())"
   ]
  },
  {
   "cell_type": "markdown",
   "id": "88aa1c66",
   "metadata": {},
   "source": [
    "### Task 6"
   ]
  },
  {
   "cell_type": "code",
   "execution_count": null,
   "id": "a45cfd38",
   "metadata": {},
   "outputs": [],
   "source": [
    "df.to_csv(\"students_data.csv\", index=False)\n",
    "df2 = pd.read_csv(\"students_data.csv\")\n",
    "print(\"First five rows of the loaded DataFrame:\")\n",
    "print(df2.head())"
   ]
  },
  {
   "cell_type": "markdown",
   "id": "fbd5848d",
   "metadata": {},
   "source": [
    "### Task 7"
   ]
  },
  {
   "cell_type": "code",
   "execution_count": null,
   "id": "082fc51c",
   "metadata": {},
   "outputs": [],
   "source": [
    "import seaborn as sns\n",
    "import matplotlib.pyplot as plt\n",
    "\n",
    "tips = sns.load_dataset(\"tips\")\n",
    "print(\"First 5 records of the dataset:\")\n",
    "print(tips.head())\n",
    "\n",
    "print(\"\\nDescriptive statistics:\")\n",
    "print(tips.describe())\n",
    "\n",
    "print(\"\\nMissing values in each column:\")\n",
    "print(tips.isnull().sum())"
   ]
  },
  {
   "cell_type": "markdown",
   "id": "cb9d8f5f",
   "metadata": {},
   "source": [
    "### Data Visualization"
   ]
  },
  {
   "cell_type": "code",
   "execution_count": null,
   "id": "44297828",
   "metadata": {},
   "outputs": [],
   "source": [
    "sns.boxplot(x='day', y='total_bill', data=tips)\n",
    "plt.title(\"Boxplot of Total Bill by Day\")\n",
    "plt.show()"
   ]
  },
  {
   "cell_type": "code",
   "execution_count": null,
   "id": "8d79ffb3",
   "metadata": {},
   "outputs": [],
   "source": [
    "plt.hist(tips['tip'], bins=10, edgecolor='black')\n",
    "plt.title(\"Distribution of Tips\")\n",
    "plt.xlabel(\"Tip Amount\")\n",
    "plt.ylabel(\"Frequency\")\n",
    "plt.show()"
   ]
  },
  {
   "cell_type": "code",
   "execution_count": null,
   "id": "9d83b8f0",
   "metadata": {},
   "outputs": [],
   "source": [
    "sns.scatterplot(x='total_bill', y='tip', hue='sex', data=tips)\n",
    "plt.title(\"Tip vs Total Bill (Colored by Gender)\")\n",
    "plt.show()"
   ]
  },
  {
   "cell_type": "markdown",
   "id": "7e947ffa",
   "metadata": {},
   "source": [
    "### Summary"
   ]
  },
  {
   "cell_type": "markdown",
   "id": "1c15b4d6",
   "metadata": {},
   "source": [
    "- The 'tips' dataset contains 244 records with no missing values.\n",
    "- The average total bill is around $19.79 with a standard deviation of ~8.90.\n",
    "- Tips range mostly between $2 and $4.\n",
    "- Boxplot shows higher total bills on weekends (Sat & Sun).\n",
    "- Scatterplot indicates a positive correlation between total bill and tip, and slight gender-based variation."
   ]
  }
 ],
 "metadata": {},
 "nbformat": 4,
 "nbformat_minor": 5
}
